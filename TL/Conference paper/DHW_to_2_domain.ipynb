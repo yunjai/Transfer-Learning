{
 "cells": [
  {
   "cell_type": "code",
   "execution_count": 1,
   "metadata": {},
   "outputs": [],
   "source": [
    "from tqdm.notebook import tqdm\n",
    "import pandas as pd\n",
    "import numpy as np\n",
    "import matplotlib.pyplot as plt\n",
    "import tqdm\n",
    "from sklearn.preprocessing import MinMaxScaler\n",
    "from sklearn.model_selection import train_test_split\n",
    "import time\n",
    "import tensorflow as tf\n",
    "from keras.callbacks import EarlyStopping, ModelCheckpoint\n",
    "from keras.models import Sequential, load_model"
   ]
  },
  {
   "cell_type": "code",
   "execution_count": 2,
   "metadata": {},
   "outputs": [],
   "source": [
    "dhw_merge = pd.read_csv('dhw_merge.csv')\n",
    "elec_merge  = pd.read_csv('elec_merge.csv')\n",
    "n_elec_merge = pd.read_csv('n_elec_merge.csv')\n",
    "\n",
    "dhw_merge = dhw_merge.drop(['YEAR'], axis=1)\n",
    "elec_merge = elec_merge.drop(['YEAR'], axis=1)\n",
    "n_elec_merge = n_elec_merge.drop(['YEAR'], axis=1)"
   ]
  },
  {
   "cell_type": "code",
   "execution_count": 3,
   "metadata": {},
   "outputs": [],
   "source": [
    "# dhw_merge = dhw_merge.drop(['YEAR','date'], axis=1)\n",
    "# elec_merge = elec_merge.drop(['YEAR','date'], axis=1)\n",
    "# n_elec_merge = n_elec_merge.drop(['YEAR','date'], axis=1)"
   ]
  },
  {
   "attachments": {},
   "cell_type": "markdown",
   "metadata": {},
   "source": [
    "##  For Scaling"
   ]
  },
  {
   "cell_type": "code",
   "execution_count": 4,
   "metadata": {},
   "outputs": [],
   "source": [
    "dhw_X = dhw_merge.drop(['DHW'], axis=1)\n",
    "dhw_Y = dhw_merge[['DHW']]\n",
    "\n",
    "scaler_dhw = MinMaxScaler()\n",
    "scaler_dhw.fit(dhw_X)\n",
    "scaled_dhw_X = scaler_dhw.transform(dhw_X)\n",
    "\n",
    "new_dhw_X = pd.DataFrame(scaled_dhw_X, index=dhw_X.index, columns=dhw_X.columns)\n",
    "new_dhw = pd.concat([new_dhw_X, dhw_Y], axis=1)"
   ]
  },
  {
   "cell_type": "code",
   "execution_count": 5,
   "metadata": {},
   "outputs": [],
   "source": [
    "elec_X = elec_merge.drop(['ELEC'], axis=1)\n",
    "elec_Y = elec_merge[['ELEC']]\n",
    "\n",
    "scaler_elec = MinMaxScaler()\n",
    "scaler_elec.fit(elec_X)\n",
    "scaled_elec_X = scaler_elec.transform(elec_X)\n",
    "\n",
    "new_elec_X = pd.DataFrame(scaled_elec_X, index=elec_X.index, columns=elec_X.columns)\n",
    "new_elec = pd.concat([new_elec_X, elec_Y], axis=1)"
   ]
  },
  {
   "cell_type": "code",
   "execution_count": 6,
   "metadata": {},
   "outputs": [],
   "source": [
    "n_elec_X = n_elec_merge.drop(['n_elec'], axis=1)\n",
    "n_elec_Y = n_elec_merge[['n_elec']]\n",
    "\n",
    "scaler_n_elec = MinMaxScaler()\n",
    "scaler_n_elec.fit(n_elec_X)\n",
    "scaled_n_elec_X = scaler_n_elec.transform(n_elec_X)\n",
    "\n",
    "new_n_elec_X = pd.DataFrame(scaled_n_elec_X, index=n_elec_X.index, columns=n_elec_X.columns)\n",
    "new_n_elec = pd.concat([new_n_elec_X, n_elec_Y], axis=1)"
   ]
  },
  {
   "cell_type": "code",
   "execution_count": 7,
   "metadata": {},
   "outputs": [],
   "source": [
    "input_dhw = new_dhw.iloc[:-1,]\n",
    "target_dhw = new_dhw[['DHW']].iloc[1:]\n",
    "\n",
    "trainX_dhw, testX_dhw, trainY_dhw, testY_dhw = train_test_split(input_dhw,target_dhw,test_size=0.3,shuffle=False,random_state=0)"
   ]
  },
  {
   "cell_type": "code",
   "execution_count": 8,
   "metadata": {},
   "outputs": [],
   "source": [
    "input_elec = new_elec.iloc[:-1,]\n",
    "target_elec = new_elec[['ELEC']].iloc[1:]\n",
    "\n",
    "trainX_elec, testX_elec, trainY_elec, testY_elec = train_test_split(input_elec,target_elec,test_size=0.3,shuffle=False,random_state=0)"
   ]
  },
  {
   "cell_type": "code",
   "execution_count": 9,
   "metadata": {},
   "outputs": [],
   "source": [
    "input = new_n_elec.iloc[:-1,]\n",
    "target = new_n_elec[['n_elec']].iloc[1:]\n",
    "\n",
    "trainX_n_elec, testX_n_elec, trainY_n_elec, testY_n_elec = train_test_split(input,target,test_size=0.3,shuffle=False,random_state=0)"
   ]
  },
  {
   "cell_type": "code",
   "execution_count": 10,
   "metadata": {},
   "outputs": [],
   "source": [
    "def buildDataSet(input, target, seqLength):\n",
    "    xdata = []\n",
    "    ydata = []\n",
    "    for i in range(len(input) - seqLength):\n",
    "        tx = input.iloc[i:i+seqLength]\n",
    "        ty = target.iloc[i+seqLength-1]\n",
    "        xdata.append(tx)\n",
    "        ydata.append(ty)\n",
    "    return np.array(xdata), np.array(ydata)"
   ]
  },
  {
   "cell_type": "code",
   "execution_count": 11,
   "metadata": {},
   "outputs": [],
   "source": [
    "trainx_dhw, trainy_dhw = buildDataSet(trainX_dhw, trainY_dhw, 24)\n",
    "testx_dhw, testy_dhw = buildDataSet(testX_dhw, testY_dhw, 24)\n",
    "trainx_elec, trainy_elec = buildDataSet(trainX_elec, trainY_elec, 24)\n",
    "testx_elec, testy_elec = buildDataSet(testX_elec, testY_elec, 24)\n",
    "trainx_n_elec, trainy_n_elec = buildDataSet(trainX_n_elec, trainY_n_elec, 24)\n",
    "testx_n_elec, testy_n_elec = buildDataSet(testX_n_elec, testY_n_elec, 24)"
   ]
  },
  {
   "cell_type": "code",
   "execution_count": 12,
   "metadata": {},
   "outputs": [],
   "source": [
    "src_model = load_model('DHW_source.h5')"
   ]
  },
  {
   "cell_type": "code",
   "execution_count": 13,
   "metadata": {},
   "outputs": [
    {
     "name": "stdout",
     "output_type": "stream",
     "text": [
      "Name: input_2 Trainable: True\n",
      "Name: conv1d_3 Trainable: True\n",
      "Name: max_pooling1d_3 Trainable: True\n",
      "Name: conv1d_4 Trainable: True\n",
      "Name: max_pooling1d_4 Trainable: True\n",
      "Name: conv1d_5 Trainable: True\n",
      "Name: max_pooling1d_5 Trainable: True\n",
      "Name: lstm_6 Trainable: True\n",
      "Name: lstm_7 Trainable: True\n",
      "Name: lstm_8 Trainable: True\n",
      "Name: lstm_9 Trainable: True\n",
      "Name: lstm_10 Trainable: True\n",
      "Name: lstm_11 Trainable: True\n",
      "Name: flatten_1 Trainable: True\n",
      "Name: dense_1 Trainable: True\n"
     ]
    }
   ],
   "source": [
    "for layer in src_model.layers:\n",
    "    print('Name:', layer.name, 'Trainable:', layer.trainable)"
   ]
  },
  {
   "cell_type": "code",
   "execution_count": 14,
   "metadata": {},
   "outputs": [
    {
     "name": "stdout",
     "output_type": "stream",
     "text": [
      "Name: input_2 Trainable: False\n",
      "Name: conv1d_3 Trainable: False\n",
      "Name: max_pooling1d_3 Trainable: False\n",
      "Name: conv1d_4 Trainable: False\n",
      "Name: max_pooling1d_4 Trainable: False\n",
      "Name: conv1d_5 Trainable: False\n",
      "Name: max_pooling1d_5 Trainable: False\n",
      "Name: lstm_6 Trainable: True\n",
      "Name: lstm_7 Trainable: True\n",
      "Name: lstm_8 Trainable: True\n",
      "Name: lstm_9 Trainable: True\n",
      "Name: lstm_10 Trainable: True\n",
      "Name: lstm_11 Trainable: True\n",
      "Name: flatten_1 Trainable: True\n",
      "Name: dense_1 Trainable: True\n"
     ]
    }
   ],
   "source": [
    "for layer in src_model.layers[:7]:\n",
    "    layer.trainable = False\n",
    "\n",
    "for layer in src_model.layers:\n",
    "    print('Name:', layer.name, 'Trainable:', layer.trainable)"
   ]
  },
  {
   "cell_type": "code",
   "execution_count": 15,
   "metadata": {},
   "outputs": [],
   "source": [
    "# # 모델 컴파일\n",
    "# earlystopping = EarlyStopping(monitor='loss', patience=50)\n",
    "# checkpoint = ModelCheckpoint(moniter='loss',filepath='DHW_to_ELEC2.h5')\n",
    "# src_model.compile(loss='mae', optimizer=tf.keras.optimizers.Adamax(learning_rate=3e-4,clipnorm=1.0), metrics=['mae'])\n",
    "# # 모델 요약 정보 출력\n",
    "# hist = src_model.fit(trainx_elec, trainy_elec, epochs=200, batch_size=128, callbacks=[earlystopping,checkpoint])"
   ]
  },
  {
   "cell_type": "code",
   "execution_count": 22,
   "metadata": {},
   "outputs": [
    {
     "name": "stdout",
     "output_type": "stream",
     "text": [
      "273/273 [==============================] - 4s 9ms/step\n"
     ]
    }
   ],
   "source": [
    "model = load_model('DHW_to_NELEC.h5')\n",
    "pred = model.predict(testx_n_elec) \n",
    "pred = np.reshape(pred,(-1,1))\n",
    "\n",
    "real = np.array(testy_n_elec)"
   ]
  },
  {
   "cell_type": "code",
   "execution_count": 23,
   "metadata": {},
   "outputs": [
    {
     "name": "stdout",
     "output_type": "stream",
     "text": [
      "MAE :  0.0929\n",
      "MSE :  0.0204\n",
      "R2 :  0.9726\n"
     ]
    }
   ],
   "source": [
    "from sklearn.metrics import mean_absolute_error\n",
    "print('MAE : ', round(mean_absolute_error(real, pred),4)) \n",
    "\n",
    "from sklearn.metrics import mean_squared_error\n",
    "print('MSE : ', round(mean_squared_error(real, pred),4))\n",
    "\n",
    "from sklearn.metrics import r2_score \n",
    "print('R2 : ', round(r2_score(real, pred),4))"
   ]
  },
  {
   "cell_type": "code",
   "execution_count": 24,
   "metadata": {},
   "outputs": [
    {
     "data": {
      "image/png": "[encoded data removed]",
      "text/plain": [
       "<Figure size 800x200 with 1 Axes>"
      ]
     },
     "metadata": {},
     "output_type": "display_data"
    }
   ],
   "source": [
    "plt.figure(figsize=(8,2))\n",
    "plt.ylabel('Target Domain A [MWh]', size=10)\n",
    "plt.plot(real, color='orange',label='True')\n",
    "plt.plot(pred, color='blue',label='Pred')\n",
    "plt.rc('font',size=10)\n",
    "plt.legend()\n",
    "plt.show()"
   ]
  },
  {
   "cell_type": "code",
   "execution_count": null,
   "metadata": {},
   "outputs": [],
   "source": []
  }
 ],
 "metadata": {
  "kernelspec": {
   "display_name": "base",
   "language": "python",
   "name": "python3"
  },
  "language_info": {
   "codemirror_mode": {
    "name": "ipython",
    "version": 3
   },
   "file_extension": ".py",
   "mimetype": "text/x-python",
   "name": "python",
   "nbconvert_exporter": "python",
   "pygments_lexer": "ipython3",
   "version": "3.10.9"
  },
  "orig_nbformat": 4
 },
 "nbformat": 4,
 "nbformat_minor": 2
}
