{
 "cells": [
  {
   "cell_type": "code",
   "execution_count": 28,
   "metadata": {},
   "outputs": [],
   "source": [
    "from tqdm.notebook import tqdm\n",
    "import pandas as pd\n",
    "import numpy as np\n",
    "import matplotlib.pyplot as plt\n",
    "from sklearn.preprocessing import MinMaxScaler\n",
    "from sklearn.model_selection import train_test_split\n",
    "import tensorflow as tf\n",
    "import lightgbm as lgbm\n",
    "from lightgbm import LGBMRegressor\n",
    "import xgboost as xgb\n",
    "from sklearn.svm import SVR\n",
    "from sklearn.ensemble import RandomForestRegressor"
   ]
  },
  {
   "cell_type": "code",
   "execution_count": 2,
   "metadata": {},
   "outputs": [],
   "source": [
    "dhw_merge = pd.read_csv('dhw_merge.csv')\n",
    "elec_merge  = pd.read_csv('elec_merge.csv')\n",
    "n_elec_merge = pd.read_csv('n_elec_merge.csv')\n",
    "\n",
    "dhw_merge = dhw_merge.drop(['YEAR'], axis=1)\n",
    "elec_merge = elec_merge.drop(['YEAR'], axis=1)\n",
    "n_elec_merge = n_elec_merge.drop(['YEAR'], axis=1)"
   ]
  },
  {
   "attachments": {},
   "cell_type": "markdown",
   "metadata": {},
   "source": [
    "##  For Scaling"
   ]
  },
  {
   "cell_type": "code",
   "execution_count": 3,
   "metadata": {},
   "outputs": [],
   "source": [
    "dhw_X = dhw_merge.drop(['DHW'], axis=1)\n",
    "dhw_Y = dhw_merge[['DHW']]\n",
    "\n",
    "scaler_dhw = MinMaxScaler()\n",
    "scaler_dhw.fit(dhw_X)\n",
    "scaled_dhw_X = scaler_dhw.transform(dhw_X)\n",
    "\n",
    "new_dhw_X = pd.DataFrame(scaled_dhw_X, index=dhw_X.index, columns=dhw_X.columns)\n",
    "new_dhw = pd.concat([new_dhw_X, dhw_Y], axis=1)"
   ]
  },
  {
   "cell_type": "code",
   "execution_count": 4,
   "metadata": {},
   "outputs": [],
   "source": [
    "elec_X = elec_merge.drop(['ELEC'], axis=1)\n",
    "elec_Y = elec_merge[['ELEC']]\n",
    "\n",
    "scaler_elec = MinMaxScaler()\n",
    "scaler_elec.fit(elec_X)\n",
    "scaled_elec_X = scaler_elec.transform(elec_X)\n",
    "\n",
    "new_elec_X = pd.DataFrame(scaled_elec_X, index=elec_X.index, columns=elec_X.columns)\n",
    "new_elec = pd.concat([new_elec_X, elec_Y], axis=1)"
   ]
  },
  {
   "cell_type": "code",
   "execution_count": 5,
   "metadata": {},
   "outputs": [],
   "source": [
    "n_elec_X = n_elec_merge.drop(['n_elec'], axis=1)\n",
    "n_elec_Y = n_elec_merge[['n_elec']]\n",
    "\n",
    "scaler_n_elec = MinMaxScaler()\n",
    "scaler_n_elec.fit(n_elec_X)\n",
    "scaled_n_elec_X = scaler_n_elec.transform(n_elec_X)\n",
    "\n",
    "new_n_elec_X = pd.DataFrame(scaled_n_elec_X, index=n_elec_X.index, columns=n_elec_X.columns)\n",
    "new_n_elec = pd.concat([new_n_elec_X, n_elec_Y], axis=1)"
   ]
  },
  {
   "cell_type": "code",
   "execution_count": 6,
   "metadata": {},
   "outputs": [],
   "source": [
    "input_dhw = new_dhw.iloc[:-1,]\n",
    "target_dhw = new_dhw[['DHW']].iloc[1:]\n",
    "\n",
    "trainX_dhw, testX_dhw, trainY_dhw, testY_dhw = train_test_split(input_dhw,target_dhw,test_size=0.3,shuffle=False,random_state=0)"
   ]
  },
  {
   "cell_type": "code",
   "execution_count": 7,
   "metadata": {},
   "outputs": [],
   "source": [
    "input_elec = new_elec.iloc[:-1,]\n",
    "target_elec = new_elec[['ELEC']].iloc[1:]\n",
    "\n",
    "trainX_elec, testX_elec, trainY_elec, testY_elec = train_test_split(input_elec,target_elec,test_size=0.3,shuffle=False,random_state=0)"
   ]
  },
  {
   "cell_type": "code",
   "execution_count": 8,
   "metadata": {},
   "outputs": [],
   "source": [
    "input = new_n_elec.iloc[:-1,]\n",
    "target = new_n_elec[['n_elec']].iloc[1:]\n",
    "\n",
    "trainX_n_elec, testX_n_elec, trainY_n_elec, testY_n_elec = train_test_split(input,target,test_size=0.3,shuffle=False,random_state=0)"
   ]
  },
  {
   "cell_type": "markdown",
   "metadata": {},
   "source": [
    "## SVR"
   ]
  },
  {
   "cell_type": "code",
   "execution_count": 9,
   "metadata": {},
   "outputs": [
    {
     "name": "stderr",
     "output_type": "stream",
     "text": [
      "c:\\Users\\yunjae\\anaconda3\\lib\\site-packages\\sklearn\\utils\\validation.py:1143: DataConversionWarning: A column-vector y was passed when a 1d array was expected. Please change the shape of y to (n_samples, ), for example using ravel().\n",
      "  y = column_or_1d(y, warn=True)\n",
      "c:\\Users\\yunjae\\anaconda3\\lib\\site-packages\\sklearn\\utils\\validation.py:1143: DataConversionWarning: A column-vector y was passed when a 1d array was expected. Please change the shape of y to (n_samples, ), for example using ravel().\n",
      "  y = column_or_1d(y, warn=True)\n",
      "c:\\Users\\yunjae\\anaconda3\\lib\\site-packages\\sklearn\\utils\\validation.py:1143: DataConversionWarning: A column-vector y was passed when a 1d array was expected. Please change the shape of y to (n_samples, ), for example using ravel().\n",
      "  y = column_or_1d(y, warn=True)\n"
     ]
    },
    {
     "data": {
      "text/html": [
       "<style>#sk-container-id-1 {color: black;background-color: white;}#sk-container-id-1 pre{padding: 0;}#sk-container-id-1 div.sk-toggleable {background-color: white;}#sk-container-id-1 label.sk-toggleable__label {cursor: pointer;display: block;width: 100%;margin-bottom: 0;padding: 0.3em;box-sizing: border-box;text-align: center;}#sk-container-id-1 label.sk-toggleable__label-arrow:before {content: \"▸\";float: left;margin-right: 0.25em;color: #696969;}#sk-container-id-1 label.sk-toggleable__label-arrow:hover:before {color: black;}#sk-container-id-1 div.sk-estimator:hover label.sk-toggleable__label-arrow:before {color: black;}#sk-container-id-1 div.sk-toggleable__content {max-height: 0;max-width: 0;overflow: hidden;text-align: left;background-color: #f0f8ff;}#sk-container-id-1 div.sk-toggleable__content pre {margin: 0.2em;color: black;border-radius: 0.25em;background-color: #f0f8ff;}#sk-container-id-1 input.sk-toggleable__control:checked~div.sk-toggleable__content {max-height: 200px;max-width: 100%;overflow: auto;}#sk-container-id-1 input.sk-toggleable__control:checked~label.sk-toggleable__label-arrow:before {content: \"▾\";}#sk-container-id-1 div.sk-estimator input.sk-toggleable__control:checked~label.sk-toggleable__label {background-color: #d4ebff;}#sk-container-id-1 div.sk-label input.sk-toggleable__control:checked~label.sk-toggleable__label {background-color: #d4ebff;}#sk-container-id-1 input.sk-hidden--visually {border: 0;clip: rect(1px 1px 1px 1px);clip: rect(1px, 1px, 1px, 1px);height: 1px;margin: -1px;overflow: hidden;padding: 0;position: absolute;width: 1px;}#sk-container-id-1 div.sk-estimator {font-family: monospace;background-color: #f0f8ff;border: 1px dotted black;border-radius: 0.25em;box-sizing: border-box;margin-bottom: 0.5em;}#sk-container-id-1 div.sk-estimator:hover {background-color: #d4ebff;}#sk-container-id-1 div.sk-parallel-item::after {content: \"\";width: 100%;border-bottom: 1px solid gray;flex-grow: 1;}#sk-container-id-1 div.sk-label:hover label.sk-toggleable__label {background-color: #d4ebff;}#sk-container-id-1 div.sk-serial::before {content: \"\";position: absolute;border-left: 1px solid gray;box-sizing: border-box;top: 0;bottom: 0;left: 50%;z-index: 0;}#sk-container-id-1 div.sk-serial {display: flex;flex-direction: column;align-items: center;background-color: white;padding-right: 0.2em;padding-left: 0.2em;position: relative;}#sk-container-id-1 div.sk-item {position: relative;z-index: 1;}#sk-container-id-1 div.sk-parallel {display: flex;align-items: stretch;justify-content: center;background-color: white;position: relative;}#sk-container-id-1 div.sk-item::before, #sk-container-id-1 div.sk-parallel-item::before {content: \"\";position: absolute;border-left: 1px solid gray;box-sizing: border-box;top: 0;bottom: 0;left: 50%;z-index: -1;}#sk-container-id-1 div.sk-parallel-item {display: flex;flex-direction: column;z-index: 1;position: relative;background-color: white;}#sk-container-id-1 div.sk-parallel-item:first-child::after {align-self: flex-end;width: 50%;}#sk-container-id-1 div.sk-parallel-item:last-child::after {align-self: flex-start;width: 50%;}#sk-container-id-1 div.sk-parallel-item:only-child::after {width: 0;}#sk-container-id-1 div.sk-dashed-wrapped {border: 1px dashed gray;margin: 0 0.4em 0.5em 0.4em;box-sizing: border-box;padding-bottom: 0.4em;background-color: white;}#sk-container-id-1 div.sk-label label {font-family: monospace;font-weight: bold;display: inline-block;line-height: 1.2em;}#sk-container-id-1 div.sk-label-container {text-align: center;}#sk-container-id-1 div.sk-container {/* jupyter's `normalize.less` sets `[hidden] { display: none; }` but bootstrap.min.css set `[hidden] { display: none !important; }` so we also need the `!important` here to be able to override the default hidden behavior on the sphinx rendered scikit-learn.org. See: https://github.com/scikit-learn/scikit-learn/issues/21755 */display: inline-block !important;position: relative;}#sk-container-id-1 div.sk-text-repr-fallback {display: none;}</style><div id=\"sk-container-id-1\" class=\"sk-top-container\"><div class=\"sk-text-repr-fallback\"><pre>SVR(gamma=&#x27;auto&#x27;)</pre><b>In a Jupyter environment, please rerun this cell to show the HTML representation or trust the notebook. <br />On GitHub, the HTML representation is unable to render, please try loading this page with nbviewer.org.</b></div><div class=\"sk-container\" hidden><div class=\"sk-item\"><div class=\"sk-estimator sk-toggleable\"><input class=\"sk-toggleable__control sk-hidden--visually\" id=\"sk-estimator-id-1\" type=\"checkbox\" checked><label for=\"sk-estimator-id-1\" class=\"sk-toggleable__label sk-toggleable__label-arrow\">SVR</label><div class=\"sk-toggleable__content\"><pre>SVR(gamma=&#x27;auto&#x27;)</pre></div></div></div></div></div>"
      ],
      "text/plain": [
       "SVR(gamma='auto')"
      ]
     },
     "execution_count": 9,
     "metadata": {},
     "output_type": "execute_result"
    }
   ],
   "source": [
    "model_svr_dhw = SVR(kernel='rbf', gamma='auto')\n",
    "model_svr_dhw.fit(trainX_dhw, trainY_dhw)\n",
    "\n",
    "model_svr_elec = SVR(kernel='rbf', gamma='auto')\n",
    "model_svr_elec.fit(trainX_elec, trainY_elec)\n",
    "\n",
    "model_svr_n_elec = SVR(kernel='rbf', gamma='auto')\n",
    "model_svr_n_elec.fit(trainX_n_elec, trainY_n_elec)"
   ]
  },
  {
   "cell_type": "code",
   "execution_count": 10,
   "metadata": {},
   "outputs": [],
   "source": [
    "model_svr_pred_dhw = model_svr_dhw.predict(testX_dhw)\n",
    "model_svr_preds_dhw = np.reshape(model_svr_pred_dhw,(-1,1))\n",
    "svr_dhw_actual = testY_dhw.to_numpy()\n",
    "svr_dhw_actual = np.reshape(svr_dhw_actual,(-1,1))"
   ]
  },
  {
   "cell_type": "code",
   "execution_count": 11,
   "metadata": {},
   "outputs": [
    {
     "name": "stdout",
     "output_type": "stream",
     "text": [
      "mean_absolute_error :  0.054209611539572565\n",
      "mean_squared_error :  0.008428053029079135\n",
      "r2_score :  0.98766412228207\n"
     ]
    }
   ],
   "source": [
    "from sklearn.metrics import mean_absolute_error\n",
    "print('mean_absolute_error : ', mean_absolute_error(svr_dhw_actual, model_svr_preds_dhw))                                      \n",
    "\n",
    "from sklearn.metrics import mean_squared_error\n",
    "print('mean_squared_error : ', mean_squared_error(svr_dhw_actual, model_svr_preds_dhw))\n",
    "\n",
    "from sklearn.metrics import r2_score   # model.score\n",
    "print('r2_score : ', r2_score(svr_dhw_actual, model_svr_preds_dhw))"
   ]
  },
  {
   "cell_type": "code",
   "execution_count": 12,
   "metadata": {},
   "outputs": [],
   "source": [
    "model_svr_pred_elec = model_svr_elec.predict(testX_elec)\n",
    "model_svr_preds_elec = np.reshape(model_svr_pred_elec,(-1,1))\n",
    "svr_elec_actual = testY_elec.to_numpy()\n",
    "svr_elec_actual = np.reshape(svr_elec_actual,(-1,1))"
   ]
  },
  {
   "cell_type": "code",
   "execution_count": 13,
   "metadata": {},
   "outputs": [
    {
     "name": "stdout",
     "output_type": "stream",
     "text": [
      "mean_absolute_error :  0.13437409937860412\n",
      "mean_squared_error :  0.031189357473679513\n",
      "r2_score :  0.4430593309012403\n"
     ]
    }
   ],
   "source": [
    "from sklearn.metrics import mean_absolute_error\n",
    "print('mean_absolute_error : ', mean_absolute_error(svr_elec_actual, model_svr_preds_elec))                                      \n",
    "\n",
    "from sklearn.metrics import mean_squared_error\n",
    "print('mean_squared_error : ', mean_squared_error(svr_elec_actual, model_svr_preds_elec))\n",
    "\n",
    "from sklearn.metrics import r2_score   # model.score\n",
    "print('r2_score : ', r2_score(svr_elec_actual, model_svr_preds_elec))"
   ]
  },
  {
   "cell_type": "code",
   "execution_count": 14,
   "metadata": {},
   "outputs": [],
   "source": [
    "model_svr_pred_n_elec = model_svr_n_elec.predict(testX_n_elec)\n",
    "model_svr_preds_n_elec = np.reshape(model_svr_pred_n_elec,(-1,1))\n",
    "svr_n_elec_actual = testY_n_elec.to_numpy()\n",
    "svr_n_elec_actual = np.reshape(svr_n_elec_actual,(-1,1))"
   ]
  },
  {
   "cell_type": "code",
   "execution_count": 15,
   "metadata": {},
   "outputs": [
    {
     "name": "stdout",
     "output_type": "stream",
     "text": [
      "mean_absolute_error :  0.13265189992421086\n",
      "mean_squared_error :  0.03634301018296824\n",
      "r2_score :  0.9510622946205545\n"
     ]
    }
   ],
   "source": [
    "from sklearn.metrics import mean_absolute_error\n",
    "print('mean_absolute_error : ', mean_absolute_error(svr_n_elec_actual, model_svr_preds_n_elec))                                      \n",
    "\n",
    "from sklearn.metrics import mean_squared_error\n",
    "print('mean_squared_error : ', mean_squared_error(svr_n_elec_actual, model_svr_preds_n_elec))\n",
    "\n",
    "from sklearn.metrics import r2_score   # model.score\n",
    "print('r2_score : ', r2_score(svr_n_elec_actual, model_svr_preds_n_elec))"
   ]
  },
  {
   "cell_type": "markdown",
   "metadata": {},
   "source": [
    "## XGBoost"
   ]
  },
  {
   "cell_type": "code",
   "execution_count": 16,
   "metadata": {},
   "outputs": [],
   "source": [
    "xgb_model_dhw = xgb.XGBRegressor(n_estimators=200, learning_rate=0.01)\n",
    "xgb_model_elec = xgb.XGBRegressor(n_estimators=200, learning_rate=0.01)\n",
    "xgb_model_n_elec = xgb.XGBRegressor(n_estimators=200, learning_rate=0.01)"
   ]
  },
  {
   "cell_type": "code",
   "execution_count": 17,
   "metadata": {},
   "outputs": [
    {
     "data": {
      "text/html": [
       "<style>#sk-container-id-2 {color: black;background-color: white;}#sk-container-id-2 pre{padding: 0;}#sk-container-id-2 div.sk-toggleable {background-color: white;}#sk-container-id-2 label.sk-toggleable__label {cursor: pointer;display: block;width: 100%;margin-bottom: 0;padding: 0.3em;box-sizing: border-box;text-align: center;}#sk-container-id-2 label.sk-toggleable__label-arrow:before {content: \"▸\";float: left;margin-right: 0.25em;color: #696969;}#sk-container-id-2 label.sk-toggleable__label-arrow:hover:before {color: black;}#sk-container-id-2 div.sk-estimator:hover label.sk-toggleable__label-arrow:before {color: black;}#sk-container-id-2 div.sk-toggleable__content {max-height: 0;max-width: 0;overflow: hidden;text-align: left;background-color: #f0f8ff;}#sk-container-id-2 div.sk-toggleable__content pre {margin: 0.2em;color: black;border-radius: 0.25em;background-color: #f0f8ff;}#sk-container-id-2 input.sk-toggleable__control:checked~div.sk-toggleable__content {max-height: 200px;max-width: 100%;overflow: auto;}#sk-container-id-2 input.sk-toggleable__control:checked~label.sk-toggleable__label-arrow:before {content: \"▾\";}#sk-container-id-2 div.sk-estimator input.sk-toggleable__control:checked~label.sk-toggleable__label {background-color: #d4ebff;}#sk-container-id-2 div.sk-label input.sk-toggleable__control:checked~label.sk-toggleable__label {background-color: #d4ebff;}#sk-container-id-2 input.sk-hidden--visually {border: 0;clip: rect(1px 1px 1px 1px);clip: rect(1px, 1px, 1px, 1px);height: 1px;margin: -1px;overflow: hidden;padding: 0;position: absolute;width: 1px;}#sk-container-id-2 div.sk-estimator {font-family: monospace;background-color: #f0f8ff;border: 1px dotted black;border-radius: 0.25em;box-sizing: border-box;margin-bottom: 0.5em;}#sk-container-id-2 div.sk-estimator:hover {background-color: #d4ebff;}#sk-container-id-2 div.sk-parallel-item::after {content: \"\";width: 100%;border-bottom: 1px solid gray;flex-grow: 1;}#sk-container-id-2 div.sk-label:hover label.sk-toggleable__label {background-color: #d4ebff;}#sk-container-id-2 div.sk-serial::before {content: \"\";position: absolute;border-left: 1px solid gray;box-sizing: border-box;top: 0;bottom: 0;left: 50%;z-index: 0;}#sk-container-id-2 div.sk-serial {display: flex;flex-direction: column;align-items: center;background-color: white;padding-right: 0.2em;padding-left: 0.2em;position: relative;}#sk-container-id-2 div.sk-item {position: relative;z-index: 1;}#sk-container-id-2 div.sk-parallel {display: flex;align-items: stretch;justify-content: center;background-color: white;position: relative;}#sk-container-id-2 div.sk-item::before, #sk-container-id-2 div.sk-parallel-item::before {content: \"\";position: absolute;border-left: 1px solid gray;box-sizing: border-box;top: 0;bottom: 0;left: 50%;z-index: -1;}#sk-container-id-2 div.sk-parallel-item {display: flex;flex-direction: column;z-index: 1;position: relative;background-color: white;}#sk-container-id-2 div.sk-parallel-item:first-child::after {align-self: flex-end;width: 50%;}#sk-container-id-2 div.sk-parallel-item:last-child::after {align-self: flex-start;width: 50%;}#sk-container-id-2 div.sk-parallel-item:only-child::after {width: 0;}#sk-container-id-2 div.sk-dashed-wrapped {border: 1px dashed gray;margin: 0 0.4em 0.5em 0.4em;box-sizing: border-box;padding-bottom: 0.4em;background-color: white;}#sk-container-id-2 div.sk-label label {font-family: monospace;font-weight: bold;display: inline-block;line-height: 1.2em;}#sk-container-id-2 div.sk-label-container {text-align: center;}#sk-container-id-2 div.sk-container {/* jupyter's `normalize.less` sets `[hidden] { display: none; }` but bootstrap.min.css set `[hidden] { display: none !important; }` so we also need the `!important` here to be able to override the default hidden behavior on the sphinx rendered scikit-learn.org. See: https://github.com/scikit-learn/scikit-learn/issues/21755 */display: inline-block !important;position: relative;}#sk-container-id-2 div.sk-text-repr-fallback {display: none;}</style><div id=\"sk-container-id-2\" class=\"sk-top-container\"><div class=\"sk-text-repr-fallback\"><pre>XGBRegressor(base_score=None, booster=None, callbacks=None,\n",
       "             colsample_bylevel=None, colsample_bynode=None,\n",
       "             colsample_bytree=None, early_stopping_rounds=None,\n",
       "             enable_categorical=False, eval_metric=None, feature_types=None,\n",
       "             gamma=None, gpu_id=None, grow_policy=None, importance_type=None,\n",
       "             interaction_constraints=None, learning_rate=0.01, max_bin=None,\n",
       "             max_cat_threshold=None, max_cat_to_onehot=None,\n",
       "             max_delta_step=None, max_depth=None, max_leaves=None,\n",
       "             min_child_weight=None, missing=nan, monotone_constraints=None,\n",
       "             n_estimators=200, n_jobs=None, num_parallel_tree=None,\n",
       "             predictor=None, random_state=None, ...)</pre><b>In a Jupyter environment, please rerun this cell to show the HTML representation or trust the notebook. <br />On GitHub, the HTML representation is unable to render, please try loading this page with nbviewer.org.</b></div><div class=\"sk-container\" hidden><div class=\"sk-item\"><div class=\"sk-estimator sk-toggleable\"><input class=\"sk-toggleable__control sk-hidden--visually\" id=\"sk-estimator-id-2\" type=\"checkbox\" checked><label for=\"sk-estimator-id-2\" class=\"sk-toggleable__label sk-toggleable__label-arrow\">XGBRegressor</label><div class=\"sk-toggleable__content\"><pre>XGBRegressor(base_score=None, booster=None, callbacks=None,\n",
       "             colsample_bylevel=None, colsample_bynode=None,\n",
       "             colsample_bytree=None, early_stopping_rounds=None,\n",
       "             enable_categorical=False, eval_metric=None, feature_types=None,\n",
       "             gamma=None, gpu_id=None, grow_policy=None, importance_type=None,\n",
       "             interaction_constraints=None, learning_rate=0.01, max_bin=None,\n",
       "             max_cat_threshold=None, max_cat_to_onehot=None,\n",
       "             max_delta_step=None, max_depth=None, max_leaves=None,\n",
       "             min_child_weight=None, missing=nan, monotone_constraints=None,\n",
       "             n_estimators=200, n_jobs=None, num_parallel_tree=None,\n",
       "             predictor=None, random_state=None, ...)</pre></div></div></div></div></div>"
      ],
      "text/plain": [
       "XGBRegressor(base_score=None, booster=None, callbacks=None,\n",
       "             colsample_bylevel=None, colsample_bynode=None,\n",
       "             colsample_bytree=None, early_stopping_rounds=None,\n",
       "             enable_categorical=False, eval_metric=None, feature_types=None,\n",
       "             gamma=None, gpu_id=None, grow_policy=None, importance_type=None,\n",
       "             interaction_constraints=None, learning_rate=0.01, max_bin=None,\n",
       "             max_cat_threshold=None, max_cat_to_onehot=None,\n",
       "             max_delta_step=None, max_depth=None, max_leaves=None,\n",
       "             min_child_weight=None, missing=nan, monotone_constraints=None,\n",
       "             n_estimators=200, n_jobs=None, num_parallel_tree=None,\n",
       "             predictor=None, random_state=None, ...)"
      ]
     },
     "execution_count": 17,
     "metadata": {},
     "output_type": "execute_result"
    }
   ],
   "source": [
    "xgb_model_dhw.fit(trainX_dhw, trainY_dhw)\n",
    "xgb_model_elec.fit(trainX_elec, trainY_elec)\n",
    "xgb_model_n_elec.fit(trainX_n_elec, trainY_n_elec)"
   ]
  },
  {
   "cell_type": "code",
   "execution_count": 18,
   "metadata": {},
   "outputs": [],
   "source": [
    "xgb_model_pred_dhw = xgb_model_dhw.predict(testX_dhw)\n",
    "xgb_model_preds_dhw = np.reshape(xgb_model_pred_dhw,(-1,1))\n",
    "xgb_dhw_actual = testY_dhw.to_numpy()\n",
    "xgb_dhw_actual = np.reshape(xgb_dhw_actual,(-1,1))\n",
    "\n",
    "xgb_model_pred_elec = xgb_model_elec.predict(testX_elec)\n",
    "xgb_model_preds_elec = np.reshape(xgb_model_pred_elec,(-1,1))\n",
    "xgb_elec_actual = testY_elec.to_numpy()\n",
    "xgb_elec_actual = np.reshape(xgb_elec_actual,(-1,1))\n",
    "\n",
    "xgb_model_pred_n_elec = xgb_model_n_elec.predict(testX_n_elec)\n",
    "xgb_model_preds_n_elec = np.reshape(xgb_model_pred_n_elec,(-1,1))\n",
    "xgb_n_elec_actual = testY_n_elec.to_numpy()\n",
    "xgb_n_elec_actual = np.reshape(xgb_n_elec_actual,(-1,1))"
   ]
  },
  {
   "cell_type": "code",
   "execution_count": 19,
   "metadata": {},
   "outputs": [
    {
     "name": "stdout",
     "output_type": "stream",
     "text": [
      "mean_absolute_error :  0.10289827459518902\n",
      "mean_squared_error :  0.019048124325899946\n",
      "r2_score :  0.9721198559584877\n"
     ]
    }
   ],
   "source": [
    "from sklearn.metrics import mean_absolute_error\n",
    "print('mean_absolute_error : ', mean_absolute_error(xgb_dhw_actual, xgb_model_preds_dhw))                                      \n",
    "\n",
    "from sklearn.metrics import mean_squared_error\n",
    "print('mean_squared_error : ', mean_squared_error(xgb_dhw_actual, xgb_model_preds_dhw))\n",
    "\n",
    "from sklearn.metrics import r2_score   # model.score\n",
    "print('r2_score : ', r2_score(xgb_dhw_actual, xgb_model_preds_dhw))"
   ]
  },
  {
   "cell_type": "code",
   "execution_count": 20,
   "metadata": {},
   "outputs": [
    {
     "name": "stdout",
     "output_type": "stream",
     "text": [
      "mean_absolute_error :  0.13934454790867734\n",
      "mean_squared_error :  0.03276978340742732\n",
      "r2_score :  0.414838054533321\n"
     ]
    }
   ],
   "source": [
    "from sklearn.metrics import mean_absolute_error\n",
    "print('mean_absolute_error : ', mean_absolute_error(xgb_elec_actual, xgb_model_preds_elec))                                      \n",
    "\n",
    "from sklearn.metrics import mean_squared_error\n",
    "print('mean_squared_error : ', mean_squared_error(xgb_elec_actual, xgb_model_preds_elec))\n",
    "\n",
    "from sklearn.metrics import r2_score   # model.score\n",
    "print('r2_score : ', r2_score(xgb_elec_actual, xgb_model_preds_elec))"
   ]
  },
  {
   "cell_type": "code",
   "execution_count": 22,
   "metadata": {},
   "outputs": [
    {
     "name": "stdout",
     "output_type": "stream",
     "text": [
      "mean_absolute_error :  0.7681732757171676\n",
      "mean_squared_error :  0.6308827682321209\n",
      "r2_score :  0.15048437415398053\n"
     ]
    }
   ],
   "source": [
    "from sklearn.metrics import mean_absolute_error\n",
    "print('mean_absolute_error : ', mean_absolute_error(xgb_n_elec_actual, xgb_model_preds_n_elec))                                      \n",
    "\n",
    "from sklearn.metrics import mean_squared_error\n",
    "print('mean_squared_error : ', mean_squared_error(xgb_n_elec_actual, xgb_model_preds_n_elec))\n",
    "\n",
    "from sklearn.metrics import r2_score   # model.score\n",
    "print('r2_score : ', r2_score(xgb_n_elec_actual, xgb_model_preds_n_elec))"
   ]
  },
  {
   "cell_type": "markdown",
   "metadata": {},
   "source": [
    "## LightGBM"
   ]
  },
  {
   "cell_type": "code",
   "execution_count": 23,
   "metadata": {},
   "outputs": [
    {
     "name": "stderr",
     "output_type": "stream",
     "text": [
      "c:\\Users\\yunjae\\anaconda3\\lib\\site-packages\\lightgbm\\sklearn.py:736: UserWarning: 'verbose' argument is deprecated and will be removed in a future release of LightGBM. Pass 'log_evaluation()' callback via 'callbacks' argument instead.\n",
      "  _log_warning(\"'verbose' argument is deprecated and will be removed in a future release of LightGBM. \"\n",
      "c:\\Users\\yunjae\\anaconda3\\lib\\site-packages\\lightgbm\\sklearn.py:736: UserWarning: 'verbose' argument is deprecated and will be removed in a future release of LightGBM. Pass 'log_evaluation()' callback via 'callbacks' argument instead.\n",
      "  _log_warning(\"'verbose' argument is deprecated and will be removed in a future release of LightGBM. \"\n",
      "c:\\Users\\yunjae\\anaconda3\\lib\\site-packages\\lightgbm\\sklearn.py:736: UserWarning: 'verbose' argument is deprecated and will be removed in a future release of LightGBM. Pass 'log_evaluation()' callback via 'callbacks' argument instead.\n",
      "  _log_warning(\"'verbose' argument is deprecated and will be removed in a future release of LightGBM. \"\n"
     ]
    }
   ],
   "source": [
    "model1= LGBMRegressor(\n",
    "    learning_rate=0.01\n",
    "    , n_estimators=200\n",
    ")\n",
    "\n",
    "model2= LGBMRegressor(\n",
    "    learning_rate=0.01\n",
    "    , n_estimators=200\n",
    ")\n",
    "\n",
    "model3= LGBMRegressor(\n",
    "    learning_rate=0.01\n",
    "    , n_estimators=200\n",
    ")\n",
    "\n",
    "lgbm_model_dhw = model1.fit(trainX_dhw, trainY_dhw, eval_metric='mae', verbose=0)\n",
    "lgbm_model_elec = model2.fit(trainX_elec, trainY_elec, eval_metric='mae', verbose=0)\n",
    "lgbm_model_n_elec = model3.fit(trainX_n_elec, trainY_n_elec, eval_metric='mae', verbose=0)"
   ]
  },
  {
   "cell_type": "code",
   "execution_count": 24,
   "metadata": {},
   "outputs": [],
   "source": [
    "lgbm_model_pred_dhw = lgbm_model_dhw.predict(testX_dhw)\n",
    "lgbm_model_preds_dhw = np.reshape(lgbm_model_pred_dhw,(-1,1))\n",
    "lgbm_dhw_actual = testY_dhw.to_numpy()\n",
    "lgbm_dhw_actual = np.reshape(lgbm_dhw_actual,(-1,1))\n",
    "\n",
    "lgbm_model_pred_elec = lgbm_model_elec.predict(testX_elec)\n",
    "lgbm_model_preds_elec = np.reshape(lgbm_model_pred_elec,(-1,1))\n",
    "lgbm_elec_actual = testY_elec.to_numpy()\n",
    "lgbm_elec_actual = np.reshape(lgbm_elec_actual,(-1,1))\n",
    "\n",
    "lgbm_model_pred_n_elec = lgbm_model_n_elec.predict(testX_n_elec)\n",
    "lgbm_model_preds_n_elec = np.reshape(lgbm_model_pred_n_elec,(-1,1))\n",
    "lgbm_n_elec_actual = testY_n_elec.to_numpy()\n",
    "lgbm_n_elec_actual = np.reshape(lgbm_n_elec_actual,(-1,1))"
   ]
  },
  {
   "cell_type": "code",
   "execution_count": 25,
   "metadata": {},
   "outputs": [
    {
     "name": "stdout",
     "output_type": "stream",
     "text": [
      "mean_absolute_error :  0.1173839645637536\n",
      "mean_squared_error :  0.020004148144311965\n",
      "r2_score :  0.9707205537852968\n"
     ]
    }
   ],
   "source": [
    "from sklearn.metrics import mean_absolute_error\n",
    "print('mean_absolute_error : ', mean_absolute_error(lgbm_dhw_actual, lgbm_model_preds_dhw))                                      \n",
    "\n",
    "from sklearn.metrics import mean_squared_error\n",
    "print('mean_squared_error : ', mean_squared_error(lgbm_dhw_actual, lgbm_model_preds_dhw))\n",
    "\n",
    "from sklearn.metrics import r2_score   # model.score\n",
    "print('r2_score : ', r2_score(lgbm_dhw_actual, lgbm_model_preds_dhw))"
   ]
  },
  {
   "cell_type": "code",
   "execution_count": 26,
   "metadata": {},
   "outputs": [
    {
     "name": "stdout",
     "output_type": "stream",
     "text": [
      "mean_absolute_error :  0.1344590962446814\n",
      "mean_squared_error :  0.030568113575891478\n",
      "r2_score :  0.45415273006470724\n"
     ]
    }
   ],
   "source": [
    "from sklearn.metrics import mean_absolute_error\n",
    "print('mean_absolute_error : ', mean_absolute_error(lgbm_elec_actual, lgbm_model_preds_elec))                                      \n",
    "\n",
    "from sklearn.metrics import mean_squared_error\n",
    "print('mean_squared_error : ', mean_squared_error(lgbm_elec_actual, lgbm_model_preds_elec))\n",
    "\n",
    "from sklearn.metrics import r2_score   # model.score\n",
    "print('r2_score : ', r2_score(lgbm_elec_actual, lgbm_model_preds_elec))"
   ]
  },
  {
   "cell_type": "code",
   "execution_count": 27,
   "metadata": {},
   "outputs": [
    {
     "name": "stdout",
     "output_type": "stream",
     "text": [
      "mean_absolute_error :  0.15352190572629693\n",
      "mean_squared_error :  0.04107443338337416\n",
      "r2_score :  0.944691193453061\n"
     ]
    }
   ],
   "source": [
    "from sklearn.metrics import mean_absolute_error\n",
    "print('mean_absolute_error : ', mean_absolute_error(lgbm_n_elec_actual, lgbm_model_preds_n_elec))                                      \n",
    "\n",
    "from sklearn.metrics import mean_squared_error\n",
    "print('mean_squared_error : ', mean_squared_error(lgbm_n_elec_actual, lgbm_model_preds_n_elec))\n",
    "\n",
    "from sklearn.metrics import r2_score   # model.score\n",
    "print('r2_score : ', r2_score(lgbm_n_elec_actual, lgbm_model_preds_n_elec))"
   ]
  },
  {
   "cell_type": "markdown",
   "metadata": {},
   "source": [
    "## Random Forest"
   ]
  },
  {
   "cell_type": "code",
   "execution_count": 29,
   "metadata": {},
   "outputs": [
    {
     "name": "stderr",
     "output_type": "stream",
     "text": [
      "C:\\Users\\yunjae\\AppData\\Local\\Temp\\ipykernel_15676\\1979083861.py:7: DataConversionWarning: A column-vector y was passed when a 1d array was expected. Please change the shape of y to (n_samples,), for example using ravel().\n",
      "  rf_dhw.fit(trainX_dhw, trainY_dhw)\n",
      "C:\\Users\\yunjae\\AppData\\Local\\Temp\\ipykernel_15676\\1979083861.py:8: DataConversionWarning: A column-vector y was passed when a 1d array was expected. Please change the shape of y to (n_samples,), for example using ravel().\n",
      "  rf_elec.fit(trainX_elec, trainY_elec)\n",
      "C:\\Users\\yunjae\\AppData\\Local\\Temp\\ipykernel_15676\\1979083861.py:9: DataConversionWarning: A column-vector y was passed when a 1d array was expected. Please change the shape of y to (n_samples,), for example using ravel().\n",
      "  rf_n_elec.fit(trainX_n_elec, trainY_n_elec)\n"
     ]
    },
    {
     "data": {
      "text/html": [
       "<style>#sk-container-id-3 {color: black;background-color: white;}#sk-container-id-3 pre{padding: 0;}#sk-container-id-3 div.sk-toggleable {background-color: white;}#sk-container-id-3 label.sk-toggleable__label {cursor: pointer;display: block;width: 100%;margin-bottom: 0;padding: 0.3em;box-sizing: border-box;text-align: center;}#sk-container-id-3 label.sk-toggleable__label-arrow:before {content: \"▸\";float: left;margin-right: 0.25em;color: #696969;}#sk-container-id-3 label.sk-toggleable__label-arrow:hover:before {color: black;}#sk-container-id-3 div.sk-estimator:hover label.sk-toggleable__label-arrow:before {color: black;}#sk-container-id-3 div.sk-toggleable__content {max-height: 0;max-width: 0;overflow: hidden;text-align: left;background-color: #f0f8ff;}#sk-container-id-3 div.sk-toggleable__content pre {margin: 0.2em;color: black;border-radius: 0.25em;background-color: #f0f8ff;}#sk-container-id-3 input.sk-toggleable__control:checked~div.sk-toggleable__content {max-height: 200px;max-width: 100%;overflow: auto;}#sk-container-id-3 input.sk-toggleable__control:checked~label.sk-toggleable__label-arrow:before {content: \"▾\";}#sk-container-id-3 div.sk-estimator input.sk-toggleable__control:checked~label.sk-toggleable__label {background-color: #d4ebff;}#sk-container-id-3 div.sk-label input.sk-toggleable__control:checked~label.sk-toggleable__label {background-color: #d4ebff;}#sk-container-id-3 input.sk-hidden--visually {border: 0;clip: rect(1px 1px 1px 1px);clip: rect(1px, 1px, 1px, 1px);height: 1px;margin: -1px;overflow: hidden;padding: 0;position: absolute;width: 1px;}#sk-container-id-3 div.sk-estimator {font-family: monospace;background-color: #f0f8ff;border: 1px dotted black;border-radius: 0.25em;box-sizing: border-box;margin-bottom: 0.5em;}#sk-container-id-3 div.sk-estimator:hover {background-color: #d4ebff;}#sk-container-id-3 div.sk-parallel-item::after {content: \"\";width: 100%;border-bottom: 1px solid gray;flex-grow: 1;}#sk-container-id-3 div.sk-label:hover label.sk-toggleable__label {background-color: #d4ebff;}#sk-container-id-3 div.sk-serial::before {content: \"\";position: absolute;border-left: 1px solid gray;box-sizing: border-box;top: 0;bottom: 0;left: 50%;z-index: 0;}#sk-container-id-3 div.sk-serial {display: flex;flex-direction: column;align-items: center;background-color: white;padding-right: 0.2em;padding-left: 0.2em;position: relative;}#sk-container-id-3 div.sk-item {position: relative;z-index: 1;}#sk-container-id-3 div.sk-parallel {display: flex;align-items: stretch;justify-content: center;background-color: white;position: relative;}#sk-container-id-3 div.sk-item::before, #sk-container-id-3 div.sk-parallel-item::before {content: \"\";position: absolute;border-left: 1px solid gray;box-sizing: border-box;top: 0;bottom: 0;left: 50%;z-index: -1;}#sk-container-id-3 div.sk-parallel-item {display: flex;flex-direction: column;z-index: 1;position: relative;background-color: white;}#sk-container-id-3 div.sk-parallel-item:first-child::after {align-self: flex-end;width: 50%;}#sk-container-id-3 div.sk-parallel-item:last-child::after {align-self: flex-start;width: 50%;}#sk-container-id-3 div.sk-parallel-item:only-child::after {width: 0;}#sk-container-id-3 div.sk-dashed-wrapped {border: 1px dashed gray;margin: 0 0.4em 0.5em 0.4em;box-sizing: border-box;padding-bottom: 0.4em;background-color: white;}#sk-container-id-3 div.sk-label label {font-family: monospace;font-weight: bold;display: inline-block;line-height: 1.2em;}#sk-container-id-3 div.sk-label-container {text-align: center;}#sk-container-id-3 div.sk-container {/* jupyter's `normalize.less` sets `[hidden] { display: none; }` but bootstrap.min.css set `[hidden] { display: none !important; }` so we also need the `!important` here to be able to override the default hidden behavior on the sphinx rendered scikit-learn.org. See: https://github.com/scikit-learn/scikit-learn/issues/21755 */display: inline-block !important;position: relative;}#sk-container-id-3 div.sk-text-repr-fallback {display: none;}</style><div id=\"sk-container-id-3\" class=\"sk-top-container\"><div class=\"sk-text-repr-fallback\"><pre>RandomForestRegressor(max_depth=5, min_samples_leaf=8, min_samples_split=8,\n",
       "                      n_estimators=200, random_state=0)</pre><b>In a Jupyter environment, please rerun this cell to show the HTML representation or trust the notebook. <br />On GitHub, the HTML representation is unable to render, please try loading this page with nbviewer.org.</b></div><div class=\"sk-container\" hidden><div class=\"sk-item\"><div class=\"sk-estimator sk-toggleable\"><input class=\"sk-toggleable__control sk-hidden--visually\" id=\"sk-estimator-id-3\" type=\"checkbox\" checked><label for=\"sk-estimator-id-3\" class=\"sk-toggleable__label sk-toggleable__label-arrow\">RandomForestRegressor</label><div class=\"sk-toggleable__content\"><pre>RandomForestRegressor(max_depth=5, min_samples_leaf=8, min_samples_split=8,\n",
       "                      n_estimators=200, random_state=0)</pre></div></div></div></div></div>"
      ],
      "text/plain": [
       "RandomForestRegressor(max_depth=5, min_samples_leaf=8, min_samples_split=8,\n",
       "                      n_estimators=200, random_state=0)"
      ]
     },
     "execution_count": 29,
     "metadata": {},
     "output_type": "execute_result"
    }
   ],
   "source": [
    "rf_dhw = RandomForestRegressor(random_state=0, max_depth=5, min_samples_leaf=8, min_samples_split=8,n_estimators=200)\n",
    "\n",
    "rf_elec = RandomForestRegressor(random_state=0, max_depth=5, min_samples_leaf=8, min_samples_split=8,n_estimators=200)\n",
    "\n",
    "rf_n_elec = RandomForestRegressor(random_state=0, max_depth=5, min_samples_leaf=8, min_samples_split=8,n_estimators=200)\n",
    "\n",
    "rf_dhw.fit(trainX_dhw, trainY_dhw)\n",
    "rf_elec.fit(trainX_elec, trainY_elec)\n",
    "rf_n_elec.fit(trainX_n_elec, trainY_n_elec)"
   ]
  },
  {
   "cell_type": "code",
   "execution_count": 30,
   "metadata": {},
   "outputs": [],
   "source": [
    "dhw_predict = rf_dhw.predict(testX_dhw)\n",
    "elec_predict = rf_elec.predict(testX_elec)\n",
    "n_elec_predict = rf_n_elec.predict(testX_n_elec)\n",
    "\n",
    "dhw_actual = testY_dhw\n",
    "elec_actual = testY_elec\n",
    "n_elec_actual = testY_n_elec"
   ]
  },
  {
   "cell_type": "code",
   "execution_count": 31,
   "metadata": {},
   "outputs": [
    {
     "name": "stdout",
     "output_type": "stream",
     "text": [
      "mean_absolute_error :  0.04180805234349381\n",
      "mean_squared_error :  0.0080150805428414\n",
      "r2_score :  0.9882685771987063\n"
     ]
    }
   ],
   "source": [
    "from sklearn.metrics import mean_absolute_error\n",
    "print('mean_absolute_error : ', mean_absolute_error(dhw_actual, dhw_predict))                                      \n",
    "\n",
    "from sklearn.metrics import mean_squared_error\n",
    "print('mean_squared_error : ', mean_squared_error(dhw_actual, dhw_predict))\n",
    "\n",
    "from sklearn.metrics import r2_score   # model.score\n",
    "print('r2_score : ', r2_score(dhw_actual, dhw_predict))"
   ]
  },
  {
   "cell_type": "code",
   "execution_count": 32,
   "metadata": {},
   "outputs": [
    {
     "name": "stdout",
     "output_type": "stream",
     "text": [
      "mean_absolute_error :  0.12957898492955205\n",
      "mean_squared_error :  0.029100711121363053\n",
      "r2_score :  0.48035577402134855\n"
     ]
    }
   ],
   "source": [
    "from sklearn.metrics import mean_absolute_error\n",
    "print('mean_absolute_error : ', mean_absolute_error(elec_actual, elec_predict))                                      \n",
    "\n",
    "from sklearn.metrics import mean_squared_error\n",
    "print('mean_squared_error : ', mean_squared_error(elec_actual, elec_predict))\n",
    "\n",
    "from sklearn.metrics import r2_score   # model.score\n",
    "print('r2_score : ', r2_score(elec_actual, elec_predict))"
   ]
  },
  {
   "cell_type": "code",
   "execution_count": 33,
   "metadata": {},
   "outputs": [
    {
     "name": "stdout",
     "output_type": "stream",
     "text": [
      "mean_absolute_error :  0.14910936371548567\n",
      "mean_squared_error :  0.040995319826847974\n",
      "r2_score :  0.9447977238670611\n"
     ]
    }
   ],
   "source": [
    "from sklearn.metrics import mean_absolute_error\n",
    "print('mean_absolute_error : ', mean_absolute_error(n_elec_actual, n_elec_predict))                                      \n",
    "\n",
    "from sklearn.metrics import mean_squared_error\n",
    "print('mean_squared_error : ', mean_squared_error(n_elec_actual, n_elec_predict))\n",
    "\n",
    "from sklearn.metrics import r2_score   # model.score\n",
    "print('r2_score : ', r2_score(n_elec_actual, n_elec_predict))"
   ]
  },
  {
   "cell_type": "code",
   "execution_count": null,
   "metadata": {},
   "outputs": [],
   "source": []
  }
 ],
 "metadata": {
  "kernelspec": {
   "display_name": "base",
   "language": "python",
   "name": "python3"
  },
  "language_info": {
   "codemirror_mode": {
    "name": "ipython",
    "version": 3
   },
   "file_extension": ".py",
   "mimetype": "text/x-python",
   "name": "python",
   "nbconvert_exporter": "python",
   "pygments_lexer": "ipython3",
   "version": "3.10.9"
  },
  "orig_nbformat": 4
 },
 "nbformat": 4,
 "nbformat_minor": 2
}
