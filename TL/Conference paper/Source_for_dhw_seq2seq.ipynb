{
 "cells": [
  {
   "cell_type": "code",
   "execution_count": 1,
   "metadata": {},
   "outputs": [],
   "source": [
    "from tqdm.notebook import tqdm\n",
    "import pandas as pd\n",
    "import numpy as np\n",
    "import matplotlib.pyplot as plt\n",
    "import tqdm\n",
    "from sklearn.preprocessing import MinMaxScaler\n",
    "from sklearn.model_selection import train_test_split\n",
    "import time\n",
    "import tensorflow as tf\n",
    "from keras.callbacks import EarlyStopping, ModelCheckpoint\n",
    "from keras.models import Sequential, load_model"
   ]
  },
  {
   "cell_type": "code",
   "execution_count": 2,
   "metadata": {},
   "outputs": [],
   "source": [
    "dhw_merge = pd.read_csv('dhw_merge.csv')\n",
    "elec_merge  = pd.read_csv('elec_merge.csv')\n",
    "n_elec_merge = pd.read_csv('n_elec_merge.csv')\n",
    "\n",
    "dhw_merge = dhw_merge.drop(['YEAR'], axis=1)\n",
    "elec_merge = elec_merge.drop(['YEAR'], axis=1)\n",
    "n_elec_merge = n_elec_merge.drop(['YEAR'], axis=1)"
   ]
  },
  {
   "attachments": {},
   "cell_type": "markdown",
   "metadata": {},
   "source": [
    "##  For Scaling"
   ]
  },
  {
   "cell_type": "code",
   "execution_count": 3,
   "metadata": {},
   "outputs": [],
   "source": [
    "dhw_X = dhw_merge.drop(['DHW'], axis=1)\n",
    "dhw_Y = dhw_merge[['DHW']]\n",
    "\n",
    "scaler_dhw = MinMaxScaler()\n",
    "scaler_dhw.fit(dhw_X)\n",
    "scaled_dhw_X = scaler_dhw.transform(dhw_X)\n",
    "\n",
    "new_dhw_X = pd.DataFrame(scaled_dhw_X, index=dhw_X.index, columns=dhw_X.columns)\n",
    "new_dhw = pd.concat([new_dhw_X, dhw_Y], axis=1)"
   ]
  },
  {
   "cell_type": "code",
   "execution_count": 4,
   "metadata": {},
   "outputs": [],
   "source": [
    "elec_X = elec_merge.drop(['ELEC'], axis=1)\n",
    "elec_Y = elec_merge[['ELEC']]\n",
    "\n",
    "scaler_elec = MinMaxScaler()\n",
    "scaler_elec.fit(elec_X)\n",
    "scaled_elec_X = scaler_elec.transform(elec_X)\n",
    "\n",
    "new_elec_X = pd.DataFrame(scaled_elec_X, index=elec_X.index, columns=elec_X.columns)\n",
    "new_elec = pd.concat([new_elec_X, elec_Y], axis=1)"
   ]
  },
  {
   "cell_type": "code",
   "execution_count": 5,
   "metadata": {},
   "outputs": [],
   "source": [
    "n_elec_X = n_elec_merge.drop(['n_elec'], axis=1)\n",
    "n_elec_Y = n_elec_merge[['n_elec']]\n",
    "\n",
    "scaler_n_elec = MinMaxScaler()\n",
    "scaler_n_elec.fit(n_elec_X)\n",
    "scaled_n_elec_X = scaler_n_elec.transform(n_elec_X)\n",
    "\n",
    "new_n_elec_X = pd.DataFrame(scaled_n_elec_X, index=n_elec_X.index, columns=n_elec_X.columns)\n",
    "new_n_elec = pd.concat([new_n_elec_X, n_elec_Y], axis=1)"
   ]
  },
  {
   "cell_type": "code",
   "execution_count": 6,
   "metadata": {},
   "outputs": [],
   "source": [
    "input_dhw = new_dhw.iloc[:-1,]\n",
    "target_dhw = new_dhw[['DHW']].iloc[1:]\n",
    "\n",
    "trainX_dhw, testX_dhw, trainY_dhw, testY_dhw = train_test_split(input_dhw,target_dhw,test_size=0.3,shuffle=False,random_state=0)"
   ]
  },
  {
   "cell_type": "code",
   "execution_count": 7,
   "metadata": {},
   "outputs": [],
   "source": [
    "input_elec = new_elec.iloc[:-1,]\n",
    "target_elec = new_elec[['ELEC']].iloc[1:]\n",
    "\n",
    "trainX_elec, testX_elec, trainY_elec, testY_elec = train_test_split(input_elec,target_elec,test_size=0.3,shuffle=False,random_state=0)"
   ]
  },
  {
   "cell_type": "code",
   "execution_count": 8,
   "metadata": {},
   "outputs": [],
   "source": [
    "input = new_n_elec.iloc[:-1,]\n",
    "target = new_n_elec[['n_elec']].iloc[1:]\n",
    "\n",
    "trainX_n_elec, testX_n_elec, trainY_n_elec, testY_n_elec = train_test_split(input,target,test_size=0.3,shuffle=False,random_state=0)"
   ]
  },
  {
   "cell_type": "code",
   "execution_count": 9,
   "metadata": {},
   "outputs": [],
   "source": [
    "def buildDataSet(input, target, seqLength):\n",
    "    xdata = []\n",
    "    ydata = []\n",
    "    for i in range(len(input) - seqLength):\n",
    "        tx = input.iloc[i:i+seqLength]\n",
    "        ty = target.iloc[i+seqLength-1]\n",
    "        xdata.append(tx)\n",
    "        ydata.append(ty)\n",
    "    return np.array(xdata), np.array(ydata)"
   ]
  },
  {
   "cell_type": "code",
   "execution_count": 10,
   "metadata": {},
   "outputs": [],
   "source": [
    "trainx_dhw, trainy_dhw = buildDataSet(trainX_dhw, trainY_dhw, 24)\n",
    "testx_dhw, testy_dhw = buildDataSet(testX_dhw, testY_dhw, 24)\n",
    "trainx_elec, trainy_elec = buildDataSet(trainX_elec, trainY_elec, 24)\n",
    "testx_elec, testy_elec = buildDataSet(testX_elec, testY_elec, 24)\n",
    "trainx_n_elec, trainy_n_elec = buildDataSet(trainX_n_elec, trainY_n_elec, 24)\n",
    "testx_n_elec, testy_n_elec = buildDataSet(testX_n_elec, testY_n_elec, 24)"
   ]
  },
  {
   "cell_type": "code",
   "execution_count": 15,
   "metadata": {},
   "outputs": [
    {
     "data": {
      "text/plain": [
       "(20392, 24, 12)"
      ]
     },
     "execution_count": 15,
     "metadata": {},
     "output_type": "execute_result"
    }
   ],
   "source": [
    "trainx_dhw.shape"
   ]
  },
  {
   "cell_type": "code",
   "execution_count": 13,
   "metadata": {},
   "outputs": [],
   "source": [
    "def seq2seq_model(input_shape):\n",
    "    model_input = tf.keras.layers.Input(shape=input_shape)\n",
    "\n",
    "    # for feature extracting\n",
    "    conv1 = tf.keras.layers.Conv1D(64, 1, activation='swish')(model_input)\n",
    "    pool1 = tf.keras.layers.MaxPool1D(pool_size=2, strides=1, padding='same')(conv1)\n",
    "    conv2 = tf.keras.layers.Conv1D(32, 1, activation='swish')(pool1)\n",
    "    pool2 = tf.keras.layers.MaxPool1D(pool_size=2, strides=1, padding='same')(conv2)\n",
    "    conv3 = tf.keras.layers.Conv1D(128, 1, activation='swish')(pool2)\n",
    "    pool3 = tf.keras.layers.MaxPool1D(pool_size=2, strides=1, padding='same')(conv3)\n",
    "\n",
    "    # 인코더 - 디코더 선언\n",
    "    encoder_lstm1 = tf.keras.layers.LSTM(64, return_sequences=True, activation='tanh')\n",
    "    encoder_lstm2 = tf.keras.layers.LSTM(32, return_sequences=True, activation='tanh')\n",
    "    encoder_lstm3 = tf.keras.layers.LSTM(128, return_state=True, return_sequences=True, activation='tanh')\n",
    "\n",
    "    decoder_lstm1 = tf.keras.layers.LSTM(128, return_sequences=True, activation='tanh')\n",
    "    decoder_lstm2 = tf.keras.layers.LSTM(32, return_sequences=True, activation='tanh')\n",
    "    decoder_lstm3 = tf.keras.layers.LSTM(64, return_sequences=True, activation='tanh')\n",
    "\n",
    "    # 인코더\n",
    "    encoder_output_lstm1 = encoder_lstm1(pool3)\n",
    "    encoder_output_lstm2 = encoder_lstm2(encoder_output_lstm1)\n",
    "    encoder_output_lstm3, state_h, state_c = encoder_lstm3(encoder_output_lstm2)\n",
    "\n",
    "    #디코더\n",
    "    decoder_lstm1_output = decoder_lstm1(encoder_output_lstm3, initial_state=[state_h, state_c])\n",
    "    decoder_lstm2_output = decoder_lstm2(decoder_lstm1_output)\n",
    "    decoder_lstm3_output = decoder_lstm3(decoder_lstm2_output)\n",
    "\n",
    "    flatten = tf.keras.layers.Flatten()(decoder_lstm3_output)\n",
    "    model_output = tf.keras.layers.Dense(1, activation='swish')(flatten)\n",
    "    \n",
    "    model = tf.keras.models.Model(model_input, model_output)\n",
    "    \n",
    "    return model"
   ]
  },
  {
   "cell_type": "code",
   "execution_count": 14,
   "metadata": {},
   "outputs": [
    {
     "name": "stdout",
     "output_type": "stream",
     "text": [
      "Model: \"model_1\"\n",
      "__________________________________________________________________________________________________\n",
      " Layer (type)                   Output Shape         Param #     Connected to                     \n",
      "==================================================================================================\n",
      " input_2 (InputLayer)           [(None, 24, 12)]     0           []                               \n",
      "                                                                                                  \n",
      " conv1d_3 (Conv1D)              (None, 24, 64)       832         ['input_2[0][0]']                \n",
      "                                                                                                  \n",
      " max_pooling1d_3 (MaxPooling1D)  (None, 24, 64)      0           ['conv1d_3[0][0]']               \n",
      "                                                                                                  \n",
      " conv1d_4 (Conv1D)              (None, 24, 32)       2080        ['max_pooling1d_3[0][0]']        \n",
      "                                                                                                  \n",
      " max_pooling1d_4 (MaxPooling1D)  (None, 24, 32)      0           ['conv1d_4[0][0]']               \n",
      "                                                                                                  \n",
      " conv1d_5 (Conv1D)              (None, 24, 128)      4224        ['max_pooling1d_4[0][0]']        \n",
      "                                                                                                  \n",
      " max_pooling1d_5 (MaxPooling1D)  (None, 24, 128)     0           ['conv1d_5[0][0]']               \n",
      "                                                                                                  \n",
      " lstm_6 (LSTM)                  (None, 24, 64)       49408       ['max_pooling1d_5[0][0]']        \n",
      "                                                                                                  \n",
      " lstm_7 (LSTM)                  (None, 24, 32)       12416       ['lstm_6[0][0]']                 \n",
      "                                                                                                  \n",
      " lstm_8 (LSTM)                  [(None, 24, 128),    82432       ['lstm_7[0][0]']                 \n",
      "                                 (None, 128),                                                     \n",
      "                                 (None, 128)]                                                     \n",
      "                                                                                                  \n",
      " lstm_9 (LSTM)                  (None, 24, 128)      131584      ['lstm_8[0][0]',                 \n",
      "                                                                  'lstm_8[0][1]',                 \n",
      "                                                                  'lstm_8[0][2]']                 \n",
      "                                                                                                  \n",
      " lstm_10 (LSTM)                 (None, 24, 32)       20608       ['lstm_9[0][0]']                 \n",
      "                                                                                                  \n",
      " lstm_11 (LSTM)                 (None, 24, 64)       24832       ['lstm_10[0][0]']                \n",
      "                                                                                                  \n",
      " flatten_1 (Flatten)            (None, 1536)         0           ['lstm_11[0][0]']                \n",
      "                                                                                                  \n",
      " dense_1 (Dense)                (None, 1)            1537        ['flatten_1[0][0]']              \n",
      "                                                                                                  \n",
      "==================================================================================================\n",
      "Total params: 329,953\n",
      "Trainable params: 329,953\n",
      "Non-trainable params: 0\n",
      "__________________________________________________________________________________________________\n"
     ]
    }
   ],
   "source": [
    "model = seq2seq_model(input_shape=(24, 12))\n",
    "model.summary()"
   ]
  },
  {
   "cell_type": "code",
   "execution_count": null,
   "metadata": {},
   "outputs": [],
   "source": [
    "# 모델 컴파일\n",
    "earlystopping = EarlyStopping(monitor='loss', patience=50)\n",
    "checkpoint = ModelCheckpoint(moniter='loss',filepath='dhw_seq2seq_source.h5')\n",
    "model.compile(loss='mae', optimizer=tf.keras.optimizers.Adamax(learning_rate=3e-4,clipnorm=1.0), metrics=['mae'])\n",
    "# 모델 요약 정보 출력\n",
    "hist = model.fit(trainx_dhw, trainy_dhw, epochs=200, batch_size=1024, callbacks=[earlystopping,checkpoint])"
   ]
  },
  {
   "cell_type": "code",
   "execution_count": null,
   "metadata": {},
   "outputs": [],
   "source": [
    "model = load_model('dhw_seq2seq_source.h5')\n",
    "pred = model.predict(testx_dhw)\n",
    "pred = np.reshape(pred,(-1,1))\n",
    "\n",
    "real = np.array(testy_dhw)"
   ]
  },
  {
   "cell_type": "code",
   "execution_count": null,
   "metadata": {},
   "outputs": [],
   "source": [
    "from sklearn.metrics import mean_absolute_error\n",
    "print('MAE : ', round(mean_absolute_error(real, pred),4)) \n",
    "\n",
    "from sklearn.metrics import mean_squared_error\n",
    "print('MSE : ', round(mean_squared_error(real, pred),4))\n",
    "\n",
    "from sklearn.metrics import r2_score\n",
    "print('R2 : ', round(r2_score(real, pred),4))"
   ]
  },
  {
   "cell_type": "code",
   "execution_count": null,
   "metadata": {},
   "outputs": [],
   "source": [
    "# plt.figure(figsize=(40,10))\n",
    "# #plt.ylabel('DHW consumption[LighGBM+FCN]',size=20)\n",
    "# plt.plot(real, color='red', label='True')\n",
    "# plt.plot(pred, color='blue',label='False')\n",
    "# plt.legend()\n",
    "# plt.show()"
   ]
  },
  {
   "cell_type": "code",
   "execution_count": null,
   "metadata": {},
   "outputs": [],
   "source": [
    "# trainSize = int(len(elec_ori) * 0.7)\n",
    "# elec_ori['date'] = pd.to_datetime(elec_ori.iloc[:,:4])\n",
    "# test_date = elec_ori[['date']].iloc[trainSize:]\n",
    "# test_date = test_date.iloc[:-3]\n",
    "# test_date"
   ]
  },
  {
   "cell_type": "code",
   "execution_count": null,
   "metadata": {},
   "outputs": [],
   "source": [
    "plt.figure(figsize=(8,5))\n",
    "plt.ylabel('Suwon Elec')\n",
    "plt.plot(real, color='red', label='True')\n",
    "plt.plot(pred, color='blue', label='Pred')\n",
    "plt.legend()\n",
    "plt.show()"
   ]
  },
  {
   "cell_type": "code",
   "execution_count": null,
   "metadata": {},
   "outputs": [],
   "source": []
  }
 ],
 "metadata": {
  "kernelspec": {
   "display_name": "base",
   "language": "python",
   "name": "python3"
  },
  "language_info": {
   "codemirror_mode": {
    "name": "ipython",
    "version": 3
   },
   "file_extension": ".py",
   "mimetype": "text/x-python",
   "name": "python",
   "nbconvert_exporter": "python",
   "pygments_lexer": "ipython3",
   "version": "3.10.9"
  },
  "orig_nbformat": 4
 },
 "nbformat": 4,
 "nbformat_minor": 2
}
